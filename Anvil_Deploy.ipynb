{
  "nbformat": 4,
  "nbformat_minor": 0,
  "metadata": {
    "colab": {
      "name": "Anvil Deploy",
      "provenance": [],
      "authorship_tag": "ABX9TyPCh1E79OFj+9wdMsO0tEJ8",
      "include_colab_link": true
    },
    "kernelspec": {
      "name": "python3",
      "display_name": "Python 3"
    }
  },
  "cells": [
    {
      "cell_type": "markdown",
      "metadata": {
        "id": "view-in-github",
        "colab_type": "text"
      },
      "source": [
        "<a href=\"https://colab.research.google.com/github/tarlochan123/minor1/blob/main/Anvil_Deploy.ipynb\" target=\"_parent\"><img src=\"https://colab.research.google.com/assets/colab-badge.svg\" alt=\"Open In Colab\"/></a>"
      ]
    },
    {
      "cell_type": "code",
      "metadata": {
        "id": "5ek2dcN7Krtq",
        "colab": {
          "base_uri": "https://localhost:8080/",
          "height": 242
        },
        "outputId": "78c7e5eb-642d-406c-b43f-b9068152c323"
      },
      "source": [
        "pip install anvil-uplink"
      ],
      "execution_count": 1,
      "outputs": [
        {
          "output_type": "stream",
          "name": "stdout",
          "text": [
            "Requirement already satisfied: anvil-uplink in /usr/local/lib/python3.7/dist-packages (0.3.41)\n",
            "Requirement already satisfied: future in /usr/local/lib/python3.7/dist-packages (from anvil-uplink) (0.16.0)\n",
            "Collecting argparse\n",
            "  Using cached argparse-1.4.0-py2.py3-none-any.whl (23 kB)\n",
            "Requirement already satisfied: ws4py in /usr/local/lib/python3.7/dist-packages (from anvil-uplink) (0.5.1)\n",
            "Requirement already satisfied: six in /usr/local/lib/python3.7/dist-packages (from anvil-uplink) (1.15.0)\n",
            "Installing collected packages: argparse\n",
            "Successfully installed argparse-1.4.0\n"
          ]
        },
        {
          "output_type": "display_data",
          "data": {
            "application/vnd.colab-display-data+json": {
              "pip_warning": {
                "packages": [
                  "argparse"
                ]
              }
            }
          },
          "metadata": {}
        }
      ]
    },
    {
      "cell_type": "code",
      "metadata": {
        "id": "Wd7PA2RsNimJ"
      },
      "source": [
        "import pickle\n",
        "with open('Tarlochan_model_pickle_3','rb') as file:\n",
        "    Tarlochan_model_3= pickle.load(file)"
      ],
      "execution_count": 3,
      "outputs": []
    },
    {
      "cell_type": "code",
      "metadata": {
        "id": "hCtNPRVqKyBO",
        "colab": {
          "base_uri": "https://localhost:8080/"
        },
        "outputId": "0f628bac-7796-4b0a-fa04-047e4411fd0a"
      },
      "source": [
        "import anvil.server\n",
        "\n",
        "anvil.server.connect(\"KWOQVHGDRYPKCEI3C2YZYVUH-5MBLKQSGXCIBX5I7\")"
      ],
      "execution_count": 4,
      "outputs": [
        {
          "output_type": "stream",
          "name": "stdout",
          "text": [
            "Connecting to wss://anvil.works/uplink\n",
            "Anvil websocket open\n",
            "Connected to \"Default environment\" as SERVER\n"
          ]
        }
      ]
    },
    {
      "cell_type": "code",
      "metadata": {
        "id": "wpiMcKSAdeve",
        "colab": {
          "base_uri": "https://localhost:8080/"
        },
        "outputId": "3f6f991b-5b51-4cfc-ebaf-70daabf91c5a"
      },
      "source": [
        "Tarlochan_model_3.predict([[1.0,0.61,3,188,4,0,0,1,0,0,0,0,0,1,0,0,0]])"
      ],
      "execution_count": 5,
      "outputs": [
        {
          "output_type": "stream",
          "name": "stderr",
          "text": [
            "/usr/local/lib/python3.7/dist-packages/sklearn/base.py:451: UserWarning: X does not have valid feature names, but RandomForestClassifier was fitted with feature names\n",
            "  \"X does not have valid feature names, but\"\n"
          ]
        },
        {
          "output_type": "execute_result",
          "data": {
            "text/plain": [
              "array([0])"
            ]
          },
          "metadata": {},
          "execution_count": 5
        }
      ]
    },
    {
      "cell_type": "code",
      "metadata": {
        "id": "fcOvXscdWNtV",
        "colab": {
          "base_uri": "https://localhost:8080/"
        },
        "outputId": "9c5a48cb-4b4b-4c74-bdb7-d5c57d8b4e82"
      },
      "source": [
        "Tarlochan_model_3.predict([[0.10,0.60,6,288,2,0,0,1,0,0,1,0,0,0,0,0,0]])"
      ],
      "execution_count": 6,
      "outputs": [
        {
          "output_type": "stream",
          "name": "stderr",
          "text": [
            "/usr/local/lib/python3.7/dist-packages/sklearn/base.py:451: UserWarning: X does not have valid feature names, but RandomForestClassifier was fitted with feature names\n",
            "  \"X does not have valid feature names, but\"\n"
          ]
        },
        {
          "output_type": "execute_result",
          "data": {
            "text/plain": [
              "array([1])"
            ]
          },
          "metadata": {},
          "execution_count": 6
        }
      ]
    },
    {
      "cell_type": "code",
      "metadata": {
        "id": "PAw1BKeooD6x"
      },
      "source": [
        "@anvil.server.callable\n",
        "\n",
        "def get_data(a,b,c,d,e,f,g,h,i):\n",
        "  if ( (int(d)<95 or int(d)>400) or (float(b)<0.1 or float(b)>1)  or (float(a)<0.1 or float(a)>1 )):\n",
        "    return (\"make sure your input are in range \\n Satisfaction_level = {0.1 - 1} \\n Last_evaluation = {0.1 - 1}\t\\n Average_montly_hours = {95 - 400}\")\n",
        "  else:\n",
        "    if h==\"technical\" : \n",
        "      score=Tarlochan_model_3.predict([[a,b,int(c),d,int(e),int(f),int(g),int(i),0,0,0,0,0,0,0,0,1]])\n",
        "    elif h==\"RandD\" :\n",
        "      score=Tarlochan_model_3.predict([[a,b,int(c),d,int(e),int(f),int(g),int(i),1,0,0,0,0,0,0,0,0]])\n",
        "    elif h==\"accounting\" :\n",
        "      score=Tarlochan_model_3.predict([[a,b,int(c),d,int(e),int(f),int(g),int(i),0,1,0,0,0,0,0,0,0]])\n",
        "    elif h==\"HR\" :\n",
        "      score=Tarlochan_model_3.predict([[a,b,int(c),d,int(e),int(f),int(g),int(i),0,0,1,0,0,0,0,0,0]])\n",
        "    elif h==\"management\" :\n",
        "      score=Tarlochan_model_3.predict([[a,b,int(c),d,int(e),int(f),int(g),int(i),0,0,0,1,0,0,0,0,0]])\n",
        "    elif h==\"marketing\":\n",
        "      score=Tarlochan_model_3.predict([[a,b,int(c),d,int(e),int(f),int(g),int(i),0,0,0,0,1,0,0,0,0]])\n",
        "    elif h==\"product_mng\":\n",
        "      score=Tarlochan_model_3.predict([[a,b,int(c),d,int(e),int(f),int(g),int(i),0,0,0,0,0,1,0,0,0]])\n",
        "    elif h==\"sales\" :\n",
        "      score=Tarlochan_model_3.predict([[a,b,int(c),d,int(e),int(f),int(g),int(i),0,0,0,0,0,0,1,0,0]])\n",
        "    elif h==\"support\":\n",
        "      score=Tarlochan_model_3.predict([[a,b,int(c),d,int(e),int(f),int(g),int(i),0,0,0,0,0,0,0,1,0]])\n",
        "    elif h==\"IT\":\n",
        "      score=Tarlochan_model_3.predict([[a,b,int(c),d,int(e),int(f),int(g),int(i),0,0,0,0,0,0,0,0,0]])\n",
        "    else:\n",
        "      score=7\n",
        "\n",
        "    result=score\n",
        "    if result==1:\n",
        "      return ('This employee will leave your Company [1]')\n",
        "    elif result==0:\n",
        "      return (\"This employee will not leave your Company [0]\")\n",
        "    elif result==7:\n",
        "      return (\"wrong input\")\n",
        "\n"
      ],
      "execution_count": 7,
      "outputs": []
    }
  ]
}